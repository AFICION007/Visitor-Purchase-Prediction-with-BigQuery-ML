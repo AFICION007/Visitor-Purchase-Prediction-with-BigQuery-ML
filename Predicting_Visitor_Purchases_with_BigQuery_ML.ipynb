{
  "nbformat": 4,
  "nbformat_minor": 0,
  "metadata": {
    "colab": {
      "name": "Predicting Visitor Purchases with BigQuery ML.ipynb",
      "provenance": []
    },
    "kernelspec": {
      "name": "python3",
      "display_name": "Python 3"
    },
    "language_info": {
      "name": "python"
    }
  },
  "cells": [
    {
      "cell_type": "markdown",
      "source": [
        "# Predicting Visitor Purchases with BigQuery ML"
      ],
      "metadata": {
        "id": "jRlF38I73GJI"
      }
    },
    {
      "cell_type": "markdown",
      "source": [
        "## Objectives:\n",
        "\n",
        "Use BigQuery to find public datasets\n",
        "\n",
        "Query and explore the ecommerce dataset\n",
        "\n",
        "Create a training and evaluation dataset to be used for batch prediction\n",
        "\n",
        "Create a classification (logistic regression) model in BigQuery ML\n",
        "\n",
        "Evaluate the performance of your machine learning model\n",
        "\n",
        "Predict and rank the probability that a visitor will make a purchase"
      ],
      "metadata": {
        "id": "Ha7PszOh3S5R"
      }
    },
    {
      "cell_type": "markdown",
      "source": [
        "## Explore ecommerce data\n",
        "\n",
        "In BigQuery\n",
        "\n",
        "Question: Out of the total visitors who visited our website, what % made a purchase?\n",
        "\n",
        "```Python\n",
        "#standardSQL\n",
        "WITH visitors AS(\n",
        "SELECT\n",
        "COUNT(DISTINCT fullVisitorId) AS total_visitors\n",
        "FROM `data-to-insights.ecommerce.web_analytics`\n",
        "),\n",
        "purchasers AS(\n",
        "SELECT\n",
        "COUNT(DISTINCT fullVisitorId) AS total_purchasers\n",
        "FROM `data-to-insights.ecommerce.web_analytics`\n",
        "WHERE totals.transactions IS NOT NULL\n",
        ")\n",
        "SELECT\n",
        "  total_visitors,\n",
        "  total_purchasers,\n",
        "  total_purchasers / total_visitors AS conversion_rate\n",
        "FROM visitors, purchasers\n",
        "\n",
        "```"
      ],
      "metadata": {
        "id": "ghFtXlBh33Sh"
      }
    },
    {
      "cell_type": "markdown",
      "source": [
        "Question: What are the top 5 selling products?\n",
        "\n",
        "```Python\n",
        "SELECT\n",
        "  p.v2ProductName,\n",
        "  p.v2ProductCategory,\n",
        "  SUM(p.productQuantity) AS units_sold,\n",
        "  ROUND(SUM(p.localProductRevenue/1000000),2) AS revenue\n",
        "FROM `data-to-insights.ecommerce.web_analytics`,\n",
        "UNNEST(hits) AS h,\n",
        "UNNEST(h.product) AS p\n",
        "GROUP BY 1, 2\n",
        "ORDER BY revenue DESC\n",
        "LIMIT 5;\n",
        "```"
      ],
      "metadata": {
        "id": "x3wuooyE6gJs"
      }
    },
    {
      "cell_type": "markdown",
      "source": [
        "How many visitors bought on subsequent visits to the website?\n",
        "```Python\n",
        "# visitors who bought on a return visit (could have bought on first as well\n",
        "WITH all_visitor_stats AS (\n",
        "SELECT\n",
        "  fullvisitorid, # 741,721 unique visitors\n",
        "  IF(COUNTIF(totals.transactions > 0 AND totals.newVisits IS NULL) > 0, 1, 0) AS will_buy_on_return_visit\n",
        "  FROM `data-to-insights.ecommerce.web_analytics`\n",
        "  GROUP BY fullvisitorid\n",
        ")\n",
        "SELECT\n",
        "  COUNT(DISTINCT fullvisitorid) AS total_visitors,\n",
        "  will_buy_on_return_visit\n",
        "FROM all_visitor_stats\n",
        "GROUP BY will_buy_on_return_visit\n",
        "```"
      ],
      "metadata": {
        "id": "Nxc8PtIP6gbs"
      }
    },
    {
      "cell_type": "markdown",
      "source": [
        "## Select features and create your training dataset"
      ],
      "metadata": {
        "id": "TNDahQAL780h"
      }
    },
    {
      "cell_type": "markdown",
      "source": [
        "```Python\n",
        "SELECT\n",
        "  * EXCEPT(fullVisitorId)\n",
        "FROM\n",
        "  # features\n",
        "  (SELECT\n",
        "    fullVisitorId,\n",
        "    IFNULL(totals.bounces, 0) AS bounces,\n",
        "    IFNULL(totals.timeOnSite, 0) AS time_on_site\n",
        "  FROM\n",
        "    `data-to-insights.ecommerce.web_analytics`\n",
        "  WHERE\n",
        "    totals.newVisits = 1)\n",
        "  JOIN\n",
        "  (SELECT\n",
        "    fullvisitorid,\n",
        "    IF(COUNTIF(totals.transactions > 0 AND totals.newVisits IS NULL) > 0, 1, 0) AS will_buy_on_return_visit\n",
        "  FROM\n",
        "      `data-to-insights.ecommerce.web_analytics`\n",
        "  GROUP BY fullvisitorid)\n",
        "  USING (fullVisitorId)\n",
        "ORDER BY time_on_site DESC\n",
        "LIMIT 10;\n",
        "```"
      ],
      "metadata": {
        "id": "Qf5udE4Z8V27"
      }
    },
    {
      "cell_type": "markdown",
      "source": [
        "## Select a BigQuery ML model type and specify options"
      ],
      "metadata": {
        "id": "iSvet2w78V6U"
      }
    },
    {
      "cell_type": "markdown",
      "source": [
        "```Python\n",
        "CREATE OR REPLACE MODEL `ecommerce.classification_model`\n",
        "OPTIONS\n",
        "(\n",
        "model_type='logistic_reg',\n",
        "labels = ['will_buy_on_return_visit']\n",
        ")\n",
        "AS\n",
        "#standardSQL\n",
        "SELECT\n",
        "  * EXCEPT(fullVisitorId)\n",
        "FROM\n",
        "  # features\n",
        "  (SELECT\n",
        "    fullVisitorId,\n",
        "    IFNULL(totals.bounces, 0) AS bounces,\n",
        "    IFNULL(totals.timeOnSite, 0) AS time_on_site\n",
        "  FROM\n",
        "    `data-to-insights.ecommerce.web_analytics`\n",
        "  WHERE\n",
        "    totals.newVisits = 1\n",
        "    AND date BETWEEN '20160801' AND '20170430') # train on first 9 months\n",
        "  JOIN\n",
        "  (SELECT\n",
        "    fullvisitorid,\n",
        "    IF(COUNTIF(totals.transactions > 0 AND totals.newVisits IS NULL) > 0, 1, 0) AS will_buy_on_return_visit\n",
        "  FROM\n",
        "      `data-to-insights.ecommerce.web_analytics`\n",
        "  GROUP BY fullvisitorid)\n",
        "  USING (fullVisitorId)\n",
        ";\n",
        "```"
      ],
      "metadata": {
        "id": "cMp5z0Kl8mlU"
      }
    },
    {
      "cell_type": "markdown",
      "source": [
        "## Evaluate classification model performance"
      ],
      "metadata": {
        "id": "2EOdgkTM8xJk"
      }
    },
    {
      "cell_type": "markdown",
      "source": [
        "```Python\n",
        "SELECT\n",
        "  roc_auc,\n",
        "  CASE\n",
        "    WHEN roc_auc > .9 THEN 'good'\n",
        "    WHEN roc_auc > .8 THEN 'fair'\n",
        "    WHEN roc_auc > .7 THEN 'not great'\n",
        "  ELSE 'poor' END AS model_quality\n",
        "FROM\n",
        "  ML.EVALUATE(MODEL ecommerce.classification_model,  (\n",
        "SELECT\n",
        "  * EXCEPT(fullVisitorId)\n",
        "FROM\n",
        "  # features\n",
        "  (SELECT\n",
        "    fullVisitorId,\n",
        "    IFNULL(totals.bounces, 0) AS bounces,\n",
        "    IFNULL(totals.timeOnSite, 0) AS time_on_site\n",
        "  FROM\n",
        "    `data-to-insights.ecommerce.web_analytics`\n",
        "  WHERE\n",
        "    totals.newVisits = 1\n",
        "    AND date BETWEEN '20170501' AND '20170630') # eval on 2 months\n",
        "  JOIN\n",
        "  (SELECT\n",
        "    fullvisitorid,\n",
        "    IF(COUNTIF(totals.transactions > 0 AND totals.newVisits IS NULL) > 0, 1, 0) AS will_buy_on_return_visit\n",
        "  FROM\n",
        "      `data-to-insights.ecommerce.web_analytics`\n",
        "  GROUP BY fullvisitorid)\n",
        "  USING (fullVisitorId)\n",
        "));\n",
        "```"
      ],
      "metadata": {
        "id": "rc6QiaEd8xSr"
      }
    },
    {
      "cell_type": "markdown",
      "source": [
        "### Output:\n",
        "###roc_auc: 0.724588\t"
      ],
      "metadata": {
        "id": "y6XZ4Mr48xaA"
      }
    },
    {
      "cell_type": "markdown",
      "source": [
        "# Improve model performance with feature engineering"
      ],
      "metadata": {
        "id": "vAcvO64M9m6V"
      }
    },
    {
      "cell_type": "markdown",
      "source": [
        "```Python\n",
        "CREATE OR REPLACE MODEL `ecommerce.classification_model_2`\n",
        "OPTIONS\n",
        "  (model_type='logistic_reg', labels = ['will_buy_on_return_visit']) AS\n",
        "WITH all_visitor_stats AS (\n",
        "SELECT\n",
        "  fullvisitorid,\n",
        "  IF(COUNTIF(totals.transactions > 0 AND totals.newVisits IS NULL) > 0, 1, 0) AS will_buy_on_return_visit\n",
        "  FROM `data-to-insights.ecommerce.web_analytics`\n",
        "  GROUP BY fullvisitorid\n",
        ")\n",
        "# add in new features\n",
        "SELECT * EXCEPT(unique_session_id) FROM (\n",
        "  SELECT\n",
        "      CONCAT(fullvisitorid, CAST(visitId AS STRING)) AS unique_session_id,\n",
        "      # labels\n",
        "      will_buy_on_return_visit,\n",
        "      MAX(CAST(h.eCommerceAction.action_type AS INT64)) AS latest_ecommerce_progress,\n",
        "      # behavior on the site\n",
        "      IFNULL(totals.bounces, 0) AS bounces,\n",
        "      IFNULL(totals.timeOnSite, 0) AS time_on_site,\n",
        "      totals.pageviews,\n",
        "      # where the visitor came from\n",
        "      trafficSource.source,\n",
        "      trafficSource.medium,\n",
        "      channelGrouping,\n",
        "      # mobile or desktop\n",
        "      device.deviceCategory,\n",
        "      # geographic\n",
        "      IFNULL(geoNetwork.country, \"\") AS country\n",
        "  FROM `data-to-insights.ecommerce.web_analytics`,\n",
        "     UNNEST(hits) AS h\n",
        "    JOIN all_visitor_stats USING(fullvisitorid)\n",
        "  WHERE 1=1\n",
        "    # only predict for new visits\n",
        "    AND totals.newVisits = 1\n",
        "    AND date BETWEEN '20160801' AND '20170430' # train 9 months\n",
        "  GROUP BY\n",
        "  unique_session_id,\n",
        "  will_buy_on_return_visit,\n",
        "  bounces,\n",
        "  time_on_site,\n",
        "  totals.pageviews,\n",
        "  trafficSource.source,\n",
        "  trafficSource.medium,\n",
        "  channelGrouping,\n",
        "  device.deviceCategory,\n",
        "  country\n",
        ");\n",
        "```"
      ],
      "metadata": {
        "id": "QEkUUynJ9m9N"
      }
    },
    {
      "cell_type": "markdown",
      "source": [
        "```Python\n",
        "#standardSQL\n",
        "SELECT\n",
        "  roc_auc,\n",
        "  CASE\n",
        "    WHEN roc_auc > .9 THEN 'good'\n",
        "    WHEN roc_auc > .8 THEN 'fair'\n",
        "    WHEN roc_auc > .7 THEN 'not great'\n",
        "  ELSE 'poor' END AS model_quality\n",
        "FROM\n",
        "  ML.EVALUATE(MODEL ecommerce.classification_model_2,  (\n",
        "WITH all_visitor_stats AS (\n",
        "SELECT\n",
        "  fullvisitorid,\n",
        "  IF(COUNTIF(totals.transactions > 0 AND totals.newVisits IS NULL) > 0, 1, 0) AS will_buy_on_return_visit\n",
        "  FROM `data-to-insights.ecommerce.web_analytics`\n",
        "  GROUP BY fullvisitorid\n",
        ")\n",
        "# add in new features\n",
        "SELECT * EXCEPT(unique_session_id) FROM (\n",
        "  SELECT\n",
        "      CONCAT(fullvisitorid, CAST(visitId AS STRING)) AS unique_session_id,\n",
        "      # labels\n",
        "      will_buy_on_return_visit,\n",
        "      MAX(CAST(h.eCommerceAction.action_type AS INT64)) AS latest_ecommerce_progress,\n",
        "      # behavior on the site\n",
        "      IFNULL(totals.bounces, 0) AS bounces,\n",
        "      IFNULL(totals.timeOnSite, 0) AS time_on_site,\n",
        "      totals.pageviews,\n",
        "      # where the visitor came from\n",
        "      trafficSource.source,\n",
        "      trafficSource.medium,\n",
        "      channelGrouping,\n",
        "      # mobile or desktop\n",
        "      device.deviceCategory,\n",
        "      # geographic\n",
        "      IFNULL(geoNetwork.country, \"\") AS country\n",
        "  FROM `data-to-insights.ecommerce.web_analytics`,\n",
        "     UNNEST(hits) AS h\n",
        "    JOIN all_visitor_stats USING(fullvisitorid)\n",
        "  WHERE 1=1\n",
        "    # only predict for new visits\n",
        "    AND totals.newVisits = 1\n",
        "    AND date BETWEEN '20170501' AND '20170630' # eval 2 months\n",
        "  GROUP BY\n",
        "  unique_session_id,\n",
        "  will_buy_on_return_visit,\n",
        "  bounces,\n",
        "  time_on_site,\n",
        "  totals.pageviews,\n",
        "  trafficSource.source,\n",
        "  trafficSource.medium,\n",
        "  channelGrouping,\n",
        "  device.deviceCategory,\n",
        "  country\n",
        ")\n",
        "));\n",
        "```"
      ],
      "metadata": {
        "id": "ts8ilOa5-Khc"
      }
    },
    {
      "cell_type": "markdown",
      "source": [
        "### Output:\n",
        "###roc_auc: 0.910382"
      ],
      "metadata": {
        "id": "vmK3HjwE-RIA"
      }
    },
    {
      "cell_type": "markdown",
      "source": [
        "# Predict which new visitors will come back and purchase"
      ],
      "metadata": {
        "id": "aKrZUjCi-S4x"
      }
    },
    {
      "cell_type": "markdown",
      "source": [
        "```Python\n",
        "SELECT\n",
        "*\n",
        "FROM\n",
        "  ml.PREDICT(MODEL `ecommerce.classification_model_2`,\n",
        "   (\n",
        "WITH all_visitor_stats AS (\n",
        "SELECT\n",
        "  fullvisitorid,\n",
        "  IF(COUNTIF(totals.transactions > 0 AND totals.newVisits IS NULL) > 0, 1, 0) AS will_buy_on_return_visit\n",
        "  FROM `data-to-insights.ecommerce.web_analytics`\n",
        "  GROUP BY fullvisitorid\n",
        ")\n",
        "  SELECT\n",
        "      CONCAT(fullvisitorid, '-',CAST(visitId AS STRING)) AS unique_session_id,\n",
        "      # labels\n",
        "      will_buy_on_return_visit,\n",
        "      MAX(CAST(h.eCommerceAction.action_type AS INT64)) AS latest_ecommerce_progress,\n",
        "      # behavior on the site\n",
        "      IFNULL(totals.bounces, 0) AS bounces,\n",
        "      IFNULL(totals.timeOnSite, 0) AS time_on_site,\n",
        "      totals.pageviews,\n",
        "      # where the visitor came from\n",
        "      trafficSource.source,\n",
        "      trafficSource.medium,\n",
        "      channelGrouping,\n",
        "      # mobile or desktop\n",
        "      device.deviceCategory,\n",
        "      # geographic\n",
        "      IFNULL(geoNetwork.country, \"\") AS country\n",
        "  FROM `data-to-insights.ecommerce.web_analytics`,\n",
        "     UNNEST(hits) AS h\n",
        "    JOIN all_visitor_stats USING(fullvisitorid)\n",
        "  WHERE\n",
        "    # only predict for new visits\n",
        "    totals.newVisits = 1\n",
        "    AND date BETWEEN '20170701' AND '20170801' # test 1 month\n",
        "  GROUP BY\n",
        "  unique_session_id,\n",
        "  will_buy_on_return_visit,\n",
        "  bounces,\n",
        "  time_on_site,\n",
        "  totals.pageviews,\n",
        "  trafficSource.source,\n",
        "  trafficSource.medium,\n",
        "  channelGrouping,\n",
        "  device.deviceCategory,\n",
        "  country\n",
        ")\n",
        ")\n",
        "ORDER BY\n",
        "  predicted_will_buy_on_return_visit DESC;\n",
        "\n",
        "```"
      ],
      "metadata": {
        "id": "QBMy0HkW-S7r"
      }
    },
    {
      "cell_type": "markdown",
      "source": [
        "# Results\n",
        "Of the top 6% of first-time visitors (sorted in decreasing order of predicted probability), more than 6% make a purchase in a later visit.\n",
        "\n",
        "These users represent nearly 50% of all first-time visitors who make a purchase in a later visit.\n",
        "\n",
        "Overall, only 0.7% of first-time visitors make a purchase in a later visit.\n",
        "\n",
        "Targeting the top 6% of first-time increases marketing ROI by 9x vs targeting them all!"
      ],
      "metadata": {
        "id": "aY5oK4CK-sgK"
      }
    },
    {
      "cell_type": "code",
      "source": [
        ""
      ],
      "metadata": {
        "id": "Psz9B0zU-wZc"
      },
      "execution_count": null,
      "outputs": []
    }
  ]
}